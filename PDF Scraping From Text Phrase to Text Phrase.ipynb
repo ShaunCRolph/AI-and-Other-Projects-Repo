{
 "cells": [
  {
   "cell_type": "code",
   "execution_count": 5,
   "id": "f889dd33",
   "metadata": {},
   "outputs": [
    {
     "name": "stdout",
     "output_type": "stream",
     "text": [
      "Data has been exported to C:\\Users\\shaun.rolph\\Desktop\\output1234.xlsx\n"
     ]
    }
   ],
   "source": [
    "import os\n",
    "import pdfplumber\n",
    "import pandas as pd\n",
    "\n",
    "# Specify the folder containing the PDF files\n",
    "folder_path = r'C:\\Users\\shaun.rolph\\Desktop\\narratives'\n",
    "\n",
    "# Specify the beginning and end text phrases\n",
    "beginning_phrase = \"OUTCOMES AND INDICATORS\"\n",
    "end_phrase = \"OUTCOME INDICATOR MEASUREMENT PLAN\"\n",
    "\n",
    "# Initialize an empty list to store data\n",
    "data = []\n",
    "\n",
    "# Loop through the PDF files in the folder\n",
    "for filename in os.listdir(folder_path):\n",
    "    if filename.endswith('.pdf'):\n",
    "        file_path = os.path.join(folder_path, filename)\n",
    "\n",
    "        # Open the PDF file using pdfplumber\n",
    "        with pdfplumber.open(file_path) as pdf:\n",
    "            # Initialize variable to store text\n",
    "            text = \"\"\n",
    "\n",
    "            # Extract text from the PDF\n",
    "            for page in pdf.pages:\n",
    "                page_text = page.extract_text()\n",
    "\n",
    "                # Check for the beginning text phrase\n",
    "                if beginning_phrase in page_text:\n",
    "                    text = page_text\n",
    "                    continue\n",
    "\n",
    "                # Append the text while inside the target text\n",
    "                if text and end_phrase not in page_text:\n",
    "                    text += page_text\n",
    "\n",
    "                # Check for the end text phrase\n",
    "                if end_phrase in page_text:\n",
    "                    break\n",
    "\n",
    "            # Append data to the list\n",
    "            data.append({'File Name': filename, 'Text': text})\n",
    "\n",
    "# Create a DataFrame from the list of data\n",
    "df = pd.DataFrame(data)\n",
    "\n",
    "# Export the DataFrame to an Excel file\n",
    "excel_file_path = r'C:\\Users\\shaun.rolph\\Desktop\\output1234.xlsx'\n",
    "df.to_excel(excel_file_path, index=False)\n",
    "\n",
    "print(f'Data has been exported to {excel_file_path}')\n"
   ]
  },
  {
   "cell_type": "code",
   "execution_count": null,
   "id": "6791a8b0",
   "metadata": {},
   "outputs": [],
   "source": []
  }
 ],
 "metadata": {
  "kernelspec": {
   "display_name": "Python 3 (ipykernel)",
   "language": "python",
   "name": "python3"
  },
  "language_info": {
   "codemirror_mode": {
    "name": "ipython",
    "version": 3
   },
   "file_extension": ".py",
   "mimetype": "text/x-python",
   "name": "python",
   "nbconvert_exporter": "python",
   "pygments_lexer": "ipython3",
   "version": "3.9.12"
  }
 },
 "nbformat": 4,
 "nbformat_minor": 5
}
